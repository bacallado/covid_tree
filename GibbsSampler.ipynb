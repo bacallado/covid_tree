{
 "cells": [
  {
   "cell_type": "markdown",
   "metadata": {},
   "source": [
    "# Gibbs sampling for joint inference of transmission network and infection times\n",
    "\n",
    "Sergio Bacallado, 3/6/2020"
   ]
  },
  {
   "cell_type": "code",
   "execution_count": 871,
   "metadata": {},
   "outputs": [],
   "source": [
    "import numpy as np\n",
    "from scipy.stats import gamma\n",
    "import scipy\n",
    "import copy\n",
    "import cPickle"
   ]
  },
  {
   "cell_type": "code",
   "execution_count": 872,
   "metadata": {},
   "outputs": [],
   "source": [
    "class Tree:\n",
    "    \"\"\"Represents a tree rooted at 0 where each node's parent is constrained\n",
    "    to be in some set. Cases adjacent to the root are index cases.\n",
    "    \n",
    "    \"\"\"\n",
    "    def __init__(self,n,possibleParents):\n",
    "        self.n = n # Number of nodes (not including root)\n",
    "        self.possibleParents = possibleParents # A dict of possible parents for each node\n",
    "        self.Initialise()\n",
    "        \n",
    "    def Reset(self):\n",
    "        \"\"\"Generates the data structures for parent, child.\n",
    "        \n",
    "        \"\"\"\n",
    "        self.parent = {i: 0 for i in range(1,self.n+1)}\n",
    "        self.child = {i: set() for i in range(self.n+1)}\n",
    "        self.descendant = {i: set() for i in range(self.n+1)}\n",
    "    \n",
    "    def AssignNodes(self):\n",
    "        growth = 1\n",
    "        while growth > 0:\n",
    "            bef = len(self.assigned)\n",
    "            for v in set(range(1,self.n+1)).difference(self.assigned):\n",
    "                parentsAssigned =  set(self.possibleParents[v]).intersection(self.assigned)\n",
    "                if len(parentsAssigned)>0:\n",
    "                    w = np.random.choice(list(parentsAssigned))\n",
    "                    self.parent[v] = w\n",
    "                    self.child[w].add(v)\n",
    "                    self.assigned.add(v)\n",
    "            growth = len(self.assigned)-bef\n",
    "    \n",
    "    def Initialise(self):\n",
    "        \"\"\" Initialises the infection network such that there are no cycles.\n",
    "        \n",
    "        \"\"\"\n",
    "        x = np.random.permutation(self.n)\n",
    "        self.Reset()\n",
    "        self.assigned = set()\n",
    "        # Add all the sure index cases to assigned\n",
    "        for v in range(1,self.n+1):\n",
    "            if len(self.possibleParents[v])==1 and (0 in self.possibleParents[v]):\n",
    "                self.parent[v] = 0\n",
    "                self.child[0].add(v)\n",
    "                self.assigned.add(v)\n",
    "        # Assign parents to cases iteratively from those already assigned\n",
    "        self.AssignNodes()\n",
    "        while len(self.assigned)<self.n:\n",
    "            v = np.random.choice(list(set(range(1,self.n+1)).difference(self.assigned)))\n",
    "            self.parent[v] = 0\n",
    "            self.child[0].add(v)\n",
    "            self.assigned.add(v)\n",
    "            self.AssignNodes()\n",
    "        self.ComputeDescendants()\n",
    "        if self.HasCycle():\n",
    "            print(\"Failed to build a tree!\")\n",
    "    \n",
    "    def ComputeDescendants(self,v=0):\n",
    "        \"\"\" From the parents and children dictionaries, compute descendant diccionary\n",
    "        for a given node v.\n",
    "        \n",
    "        \"\"\"\n",
    "        self.descendant[v] = set()\n",
    "        for c in self.child[v]:\n",
    "            self.descendant[v].add(c)\n",
    "            self.descendant[v].update(self.ComputeDescendants(c))\n",
    "        return self.descendant[v]\n",
    "            \n",
    "    def HasCycle(self):\n",
    "        \"\"\"Checks if directed graph structure in self.parent has cycle.\n",
    "        \n",
    "        \"\"\"\n",
    "        if self.parent=={}:\n",
    "            return True\n",
    "        for v in xrange(self.n+1):\n",
    "            if not self.GetsTo(v,0)[0]:\n",
    "                return True\n",
    "        return False\n",
    "    \n",
    "    def GetsTo(self,v,w,k=None):\n",
    "        \"\"\"Checks whether there is a directed path from v to w of length<=k, outputs \n",
    "        True or False, and if true, the distance between the nodes.\n",
    "        \n",
    "        \"\"\"\n",
    "        if k == None:\n",
    "            k = self.n+2\n",
    "        if v == w:\n",
    "            return (True, 0)\n",
    "        if k == 0:\n",
    "            return (False, None)\n",
    "        x,y = self.GetsTo(self.parent[v],w,k-1)\n",
    "        return ((x,y+1) if x else (x,None)) \n",
    "    \n",
    "    \n",
    "    def AllowedParents(self,v):\n",
    "        \"\"\" Returns possible parents of v who are not currently descendants of v.\n",
    "        \n",
    "        \"\"\"\n",
    "        return set(self.possibleParents[v]).difference(self.descendant[v])\n",
    "    \n",
    "    def ProposeMove(self):\n",
    "        \"\"\"Proposes a move to a new tree by reassigning the parent of one node uniformly\n",
    "        at random. Returns the new tree, the ratio of probabilities of the forward and \n",
    "        backward moves, the node changing parents, and the two parents.\n",
    "        \n",
    "        \"\"\"\n",
    "        moveableNode = np.arange(1,self.n+1)\n",
    "        moveableNode = moveableNode[[len(self.possibleParents[v])>1 for v in moveableNode]]\n",
    "        allowedParents = set()\n",
    "        while len(allowedParents)<2:\n",
    "            v = np.random.choice(moveableNode)\n",
    "            allowedParents = self.AllowedParents(v)\n",
    "        oldPa = self.parent[v]\n",
    "        newPa = np.random.choice(list(allowedParents.difference([oldPa])))\n",
    "        newT = copy.deepcopy(self)\n",
    "        newT.parent[v] = newPa\n",
    "        newT.child[oldPa].remove(v)\n",
    "        newT.child[newPa].add(v) \n",
    "        newT.ComputeDescendants()\n",
    "        ratio = float(len(newT.AllowedParents(v))-1)/float(len(allowedParents)-1)\n",
    "        return newT, ratio, v, self.parent[v], newT.parent[v]\n",
    "    \n",
    "    def Level(self,v):\n",
    "        \"\"\" Returns the distance from v to root 0.\n",
    "        \n",
    "        \"\"\"\n",
    "        return self.GetsTo(v,0)[1]"
   ]
  },
  {
   "cell_type": "code",
   "execution_count": 873,
   "metadata": {},
   "outputs": [],
   "source": [
    "class Params:\n",
    "    def __init__(self,a1,b1,a2,b2):\n",
    "        self.a1 = a1\n",
    "        self.b1 = b1\n",
    "        self.a2 = a2\n",
    "        self.b2 = b2"
   ]
  },
  {
   "cell_type": "code",
   "execution_count": 874,
   "metadata": {},
   "outputs": [],
   "source": [
    "def OrderViolated(S,I,T):\n",
    "    \"\"\" Check whether the order of infection and symptom onset is violated in the\n",
    "    triple S,I,T.\n",
    "    \n",
    "    \"\"\"\n",
    "    for v in range(1,n+1):\n",
    "        if min([S[v]]+[S[w]-1 for w in T.child[v]]) - I[T.parent[v]] < 2:\n",
    "            return True,v\n",
    "    return False,-1\n",
    "\n",
    "def InitialiseI(S,I,T):\n",
    "    \"\"\" Initialises the infection times I given symptom onset S and tree T.\n",
    "    \n",
    "    \"\"\"\n",
    "    for v in range(1,n+1):\n",
    "        I[v] = min([S[v]]+[S[w]-1 for w in T.child[v]]) - 1\n",
    "    cond,v = OrderViolated(S,I,T)\n",
    "    while cond:\n",
    "        I[T.parent[v]] += -1\n",
    "        cond,v = OrderViolated(S,I,T)"
   ]
  },
  {
   "cell_type": "code",
   "execution_count": 1020,
   "metadata": {},
   "outputs": [],
   "source": [
    "def GibbsSampler(T,I,params,S,nIter,saveInt,maxTime=30):\n",
    "    n = T.n\n",
    "    samples = []\n",
    "    for i in xrange(nIter):\n",
    "        # Resample infection times\n",
    "        for v in xrange(1,T.n+1):\n",
    "            logpost = -np.ones(maxTime)*np.inf\n",
    "            t1 = I[T.parent[v]] if T.parent[v] != 0 else -1\n",
    "            t2 = min([S[v]]+[I[w] for w in T.child[v]]) \n",
    "            if t2-t1<2:\n",
    "                print(\"Bad\")\n",
    "            for t in xrange(int(t1)+1,int(t2)):\n",
    "                logpost[t] = LogPostForI(v,t,T,I,params,S) \n",
    "            logpost += -logpost.max()\n",
    "            post = np.exp(logpost)\n",
    "            post = post/post.sum()\n",
    "            I[v] = np.random.choice(range(maxTime),p=post)\n",
    "        # Resample tree\n",
    "        for _ in xrange(10):\n",
    "            newT,ratio,v,w1,w2 = T.ProposeMove()\n",
    "            if I[v]-I[w2] <= 0:    # Don't accept moves that have parent infected before child\n",
    "                continue\n",
    "            acc = np.exp(LogGenerationLik(I[v]-I[w2],params)-LogGenerationLik(I[v]-I[w1],params))/ratio\n",
    "            if np.random.rand() < acc:\n",
    "                T = newT\n",
    "                #print(\"accepted\")\n",
    "        # Update parameters\n",
    "        for _ in xrange(10):\n",
    "            params = UpdateParams(T,I,S,params)\n",
    "        # Trace sample\n",
    "        if i%saveInt==1:\n",
    "            print(\"Iteration %i\"%i)\n",
    "            samples.append(copy.deepcopy([T,I,params]))\n",
    "    return samples\n",
    "        \n",
    "def LogGenerationLik(x,params):\n",
    "    return gamma.logpdf(x,params.a1,scale=1/params.b1)\n",
    "    \n",
    "def LogIncubationLik(x,params):\n",
    "    return gamma.logpdf(x,params.a2,scale=1/params.b2)\n",
    "    \n",
    "def UpdateParams(T,I,S,params):\n",
    "    \"\"\" Metropolis-Hastings step for the parameters.\n",
    "    \n",
    "    \"\"\"\n",
    "    scale = 0.3\n",
    "    newParams = copy.deepcopy(params)\n",
    "    newParams.a1 += scale * (np.random.rand() -0.5)\n",
    "    newParams.b1 += scale * (np.random.rand() -0.5)\n",
    "    if (newParams.a1 < 0) or (newParams.b1 < 0) or (newParams.a1>30) or (newParams.b1>20):\n",
    "        return params\n",
    "    notIndex = np.array([False]+[T.parent[v]!=0 for v in range(1,T.n+1)])\n",
    "    genInts = [I[v]-I[T.parent[v]] for v in np.arange(T.n+1)[notIndex]]\n",
    "    acc = sum(LogGenerationLik(genInts,newParams))\n",
    "    acc += -sum(LogGenerationLik(genInts,params))\n",
    "    if np.isnan(acc):\n",
    "        return \"Error\"\n",
    "    if np.random.rand() < np.exp(acc):\n",
    "        #print(\"accepted params\")\n",
    "        return newParams\n",
    "    else:\n",
    "        return params\n",
    "    \n",
    "def LogPostForI(v,t,T,I,params,S):\n",
    "    return LogIncubationLik(S[v]-t,params) \\\n",
    "            + (LogGenerationLik(t-I[T.parent[v]],params) if T.parent[v]!=0 else 0.0 ) \\\n",
    "            + sum(LogGenerationLik(I[w]-t,params) for w in T.child[v])"
   ]
  },
  {
   "cell_type": "markdown",
   "metadata": {},
   "source": [
    "## Run MCMC chain"
   ]
  },
  {
   "cell_type": "code",
   "execution_count": 1021,
   "metadata": {},
   "outputs": [],
   "source": [
    "np.random.seed(1)\n",
    "\n",
    "possibleInfector = np.genfromtxt(\"PossibleInfector.csv\",delimiter=\",\",dtype=int)\n",
    "S = np.loadtxt(\"SymptonOnsetTimes.csv\",skiprows=1)\n",
    "\n",
    "n = possibleInfector.shape[0]\n",
    "# Fix mistake in dataset: Cases 40,41,42 don't have a possible parent outside the set {40,41,42}, \n",
    "# so they always form a cycle. We add the possibility that each of them is an index case.\n",
    "possibleInfector[39,3] = 0\n",
    "possibleInfector[40,3] = 0\n",
    "possibleInfector[41,3] = 0\n",
    "possibleParents = {i+1: possibleInfector[i,~(possibleInfector[i,:]==-1)] for i in range(n)}\n",
    "T = Tree(n,possibleParents)\n",
    "S = S+14                           # Shift symptom onset times so that the first patient shows symptoms on day 14\n",
    "                                   # we'll consider the earliest possible infection time to be 0.\n",
    "maxTime = int(max(S))              # The maximum infection time will be the maximum symptom onset time - 1\n",
    "I = np.zeros(n+1)                  # Length of S and I should be n+1, first element in each is irrelevant\n",
    "S = np.concatenate([np.zeros(1),S])\n",
    "# Initialise infection times  \n",
    "InitialiseI(S,I,T)\n",
    "# Initialise parameters\n",
    "params = Params(3.45,0.66,3.45,0.66)"
   ]
  },
  {
   "cell_type": "code",
   "execution_count": null,
   "metadata": {},
   "outputs": [],
   "source": [
    "#%%timeit -n 1 -r 1\n",
    "samples = GibbsSampler(T,I,params,S,100000,100,maxTime)"
   ]
  },
  {
   "cell_type": "code",
   "execution_count": 1023,
   "metadata": {},
   "outputs": [],
   "source": [
    "cPickle.dump(samples,open(\"MCMC_output.pkl\",\"wb\"))"
   ]
  },
  {
   "cell_type": "code",
   "execution_count": 956,
   "metadata": {},
   "outputs": [],
   "source": [
    "#samples = cPickle.load(open(\"MCMC_output.pkl\",\"r\"))"
   ]
  },
  {
   "cell_type": "markdown",
   "metadata": {},
   "source": [
    "## Analysis of MCMC traces\n",
    "\n",
    "Plot traces for the mean and SD of the generating interval distribution."
   ]
  },
  {
   "cell_type": "code",
   "execution_count": 1068,
   "metadata": {},
   "outputs": [
    {
     "data": {
      "image/png": "[encoded data removed]",
      "text/plain": [
       "<Figure size 432x288 with 1 Axes>"
      ]
     },
     "metadata": {
      "needs_background": "light"
     },
     "output_type": "display_data"
    }
   ],
   "source": [
    "a1 = [samples[i][-1].a1 for i in range(len(samples))]\n",
    "b1 = [samples[i][-1].b1 for i in range(len(samples))]\n",
    "meanGen = [samples[i][-1].a1/samples[i][-1].b1 for i in range(len(samples))]\n",
    "sdGen = [np.sqrt(samples[i][-1].a1)/samples[i][-1].b1 for i in range(len(samples))]\n",
    "plt.plot(meanGen,label=\"Mean of the GI\")\n",
    "plt.plot(sdGen,label=\"SD of the GI\")\n",
    "_=plt.legend()"
   ]
  },
  {
   "cell_type": "markdown",
   "metadata": {},
   "source": [
    "There seems to be some multimodality in the posterior. The chain seems to get stuck between iteration 300 and 400 in the trace. There is still a large discrepancy in the mean generation interval with respect to Ganyani et al."
   ]
  },
  {
   "cell_type": "code",
   "execution_count": 1026,
   "metadata": {},
   "outputs": [
    {
     "data": {
      "text/plain": [
       "'Mean of GI: 4.083 (3.014 - 5.171)'"
      ]
     },
     "execution_count": 1026,
     "metadata": {},
     "output_type": "execute_result"
    }
   ],
   "source": [
    "qs = scipy.stats.mstats.mquantiles(meanGen[500:],[0.025,0.975])\n",
    "\"Mean of GI: %.3f (%.3f - %.3f)\"%(mean(meanGen[500:]),qs[0],qs[1])"
   ]
  },
  {
   "cell_type": "markdown",
   "metadata": {},
   "source": [
    "To investigate the mode with low variance in the GI distribution, we can plot a couple of trees."
   ]
  },
  {
   "cell_type": "code",
   "execution_count": 1062,
   "metadata": {},
   "outputs": [],
   "source": [
    "def AddChildren(order,v,T):\n",
    "    for w in T.child[v]:\n",
    "        order.append(w)\n",
    "        AddChildren(order,w,T)\n",
    "\n",
    "def PlotTree(T,I,maxTime):\n",
    "    order = [0]\n",
    "    AddChildren(order,0,T)\n",
    "    treeString = \"\"\n",
    "    for v in order[1:]:\n",
    "        if T.parent[v]==0:\n",
    "            treeString +=\"\\n\"\n",
    "        for day in range(int(min(I[1:])),maxTime+1):\n",
    "            if day< (I[T.parent[v]] if T.parent[v] != 0 else 0):\n",
    "                treeString += \"  \"\n",
    "            elif (T.parent[v] == 0) and (day < I[v]):\n",
    "                treeString += \"  \"\n",
    "            elif day== (I[T.parent[v]] if T.parent[v] != 0 else 0):\n",
    "                treeString += \"|_\"\n",
    "            elif day<I[v]:\n",
    "                treeString += \" _\"\n",
    "            elif day==I[v]:\n",
    "                treeString += \"%2i\"%v #\"%i (%i)\"%(v,S[v]-I[v])\n",
    "            elif day<=S[v]:\n",
    "                treeString += \" .\"\n",
    "            else:\n",
    "                treeString += \"  \"\n",
    "        treeString += \"\\n\"\n",
    "    print(treeString) "
   ]
  },
  {
   "cell_type": "markdown",
   "metadata": {},
   "source": [
    "Here's an example from what seems to be the dominant mode. The number of dashed lines before a case indicate the generation interval, and the number of dots following the incubation period."
   ]
  },
  {
   "cell_type": "code",
   "execution_count": 1069,
   "metadata": {},
   "outputs": [
    {
     "name": "stdout",
     "output_type": "stream",
     "text": [
      "\n",
      "              32 . . . . . . . .                                    \n",
      "              |_ _ _ _ _34 . . . . . . .                            \n",
      "              |_ _ _ _ _ _37 . . . . .                              \n",
      "              |_ _ _ _ _ _39 . . .                                  \n",
      "\n",
      "           1 . . . . .                                              \n",
      "          |_ _ _ _ _ 6 . . . .                                      \n",
      "                    |_ _ _ 9 . .                                    \n",
      "                          |_ _ _16 . .                              \n",
      "                                |_ _ _ _ _30 . . . . .              \n",
      "                                          |_ _ _26 . . .            \n",
      "                          |_ _ _ _24 . . . . . .                    \n",
      "                                  |_ _27 . . . . . . .              \n",
      "                                      |_ _ _ _25 . . .              \n",
      "                                              |_ _23 . .            \n",
      "                          |_ _ _18 . . . . .                        \n",
      "                                |_ _ _ _28 . . . . . .              \n",
      "                          |_ _17 . . . . .                          \n",
      "                              |_ _ _ _ _19 . . . . . . .            \n",
      "                                        |_ _ _20 . . . . .          \n",
      "                                        |_ _ _ _ _29 . . . .        \n",
      "                                                  |_ _ _ _ _ _31 . .\n",
      "                              |_ _ _ _21 . . . . . . . .            \n",
      "                              |_ _ _ _22 . . . . . .                \n",
      "                    |_ _10 . . . .                                  \n",
      "                    |_ _ _ _12 . . . .                              \n",
      "                    |_ _ _ _13 . . . . . . .                        \n",
      "                    |_ _ _ _ _ _15 . . . . . . . . . . . . . . . . .\n",
      "\n",
      "           2 . . . . .                                              \n",
      "          |_ _ _ 8 .                                                \n",
      "                |_ _ _ _11 . . . . . . . .                          \n",
      "                |_ _ 4 . . . . . .                                  \n",
      "                |_ _ _ _ 5 . . . . . . . .                          \n",
      "                        |_ _ _ _ _ _ _ _ _ 7 . . . . .              \n",
      "                |_14 . . . . . . . . . . . .                        \n",
      "          |_ _ 3 . .                                                \n",
      "\n",
      "                    35 . . . . . .                                  \n",
      "\n",
      "          36 . . . . .                                              \n",
      "\n",
      "33 . . . . . . . . . . .                                            \n",
      "|_ _ _ _38 . . . . . . . . .                                        \n",
      "\n",
      "  40 . . . . . .                                                    \n",
      "  |_ _ _41 . . . . . .                                              \n",
      "        |_ _ _ _ _ _42 . . . . .                                    \n",
      "\n",
      "                        45 . . . . . . . . . . . .                  \n",
      "                        |_ _ _43 . . .                              \n",
      "                              |_ _ _ _ _ _ _ _47 . . . . .          \n",
      "                        |_ _ _ _ _44 . . . . . .                    \n",
      "                                  |_ _ _46 . . . . . . . . .        \n",
      "\n",
      "      48 . . . .                                                    \n",
      "\n",
      "            49 . . . . . . . .                                      \n",
      "\n",
      "                50 . . . . . .                                      \n",
      "                |_ _ _ _ _51 . . . .                                \n",
      "\n",
      "                              53 .                                  \n",
      "                              |_ _ _52 . . . . . .                  \n",
      "                                    |_ _ _ _ _ _54 . . .            \n",
      "\n"
     ]
    }
   ],
   "source": [
    "PlotTree(samples[600][0],samples[600][1],maxTime)"
   ]
  },
  {
   "cell_type": "markdown",
   "metadata": {},
   "source": [
    "And here's an example from the mode with low variance in the GI. We can see that all the generation intervals are either 2 or 3. It can take a while for the Markov chain sampler to exit this configuration. "
   ]
  },
  {
   "cell_type": "code",
   "execution_count": 1065,
   "metadata": {},
   "outputs": [
    {
     "name": "stdout",
     "output_type": "stream",
     "text": [
      "\n",
      "                    32 . . . . . . .                                    \n",
      "                    |_ _34 . . . . . . . . .                            \n",
      "                    |_ _37 . . . . . . . .                              \n",
      "\n",
      "               1 . . . . .                                              \n",
      "              |_ _ 8 . .                                                \n",
      "              |_ _ 3 . .                                                \n",
      "                  |_ _ 5 . . . . . . . . . . .                          \n",
      "              |_ _ 4 . . . . . . . . .                                  \n",
      "                  |_ _ 7 . . . . . . . . . . . . . . . . .              \n",
      "\n",
      "                       2 .                                              \n",
      "                      |_ _ 6 . . .                                      \n",
      "                          |_ _ 9 . .                                    \n",
      "                              |_ _24 . . . . . . . .                    \n",
      "                                  |_ _27 . . . . . . . . .              \n",
      "                              |_ _16 . . .                              \n",
      "                                  |_ _17 . . .                          \n",
      "                                      |_ _19 . . . . . . . .            \n",
      "                                  |_ _20 . . . . . . . . . . .          \n",
      "                                  |_ _21 . . . . . . . . . .            \n",
      "                                      |_ _18 . .                        \n",
      "                                          |_ _28 . . . . .              \n",
      "                                              |_ _26 . . . .            \n",
      "                                              |_ _29 . . . . . .        \n",
      "                                                  |_ _31 . . . . . . . .\n",
      "                                          |_ _30 . . . . .              \n",
      "                                              |_ _25 . . .              \n",
      "                                          |_ _23 . . . . . .            \n",
      "                                      |_ _22 . . . . . .                \n",
      "                          |_ _10 . . .                                  \n",
      "                          |_ _11 . . . . . . .                          \n",
      "                          |_ _12 . . . . .                              \n",
      "                          |_ _ _13 . . . . . . .                        \n",
      "                          |_ _14 . . . . . . . .                        \n",
      "                          |_ _15 . . . . . . . . . . . . . . . . . . . .\n",
      "\n",
      "                  35 . . . . . . . . .                                  \n",
      "\n",
      "                  36 . . .                                              \n",
      "\n",
      "            33 . . . . . . .                                            \n",
      "            |_ _38 . . . . . . .                                        \n",
      "            |_ _39 . . . . . . . . . .                                  \n",
      "\n",
      "42 . . . . . . . . . . . . . . . . .                                    \n",
      "|_ _41 . . . . . . . . . .                                              \n",
      "    |_ _40 . . . . .                                                    \n",
      "\n",
      "                                  45 . . . . . . . . .                  \n",
      "                                  |_ _43 .                              \n",
      "                                      |_ _44 . . . .                    \n",
      "                                          |_ _ _46 . . . . . . .        \n",
      "                                      |_ _ _47 . . . . . . . .          \n",
      "\n",
      "          48 . . . .                                                    \n",
      "\n",
      "                    49 . . . . . .                                      \n",
      "\n",
      "                          50 . . .                                      \n",
      "                          |_ _51 . . . .                                \n",
      "\n",
      "                        53 . . . . . .                                  \n",
      "                        |_ _52 . . . . . . . . . . . .                  \n",
      "                            |_ _54 . . . . . . . . . . . . .            \n",
      "\n"
     ]
    }
   ],
   "source": [
    "PlotTree(samples[350][0],samples[350][1],maxTime)"
   ]
  },
  {
   "cell_type": "markdown",
   "metadata": {},
   "source": [
    "Incidentally, it seems that the Uniform([0,30]) prior on the shape parameter $\\alpha$ used in the paper is not quite uninformative. This is the posterior distribution of the parameter:"
   ]
  },
  {
   "cell_type": "code",
   "execution_count": 1074,
   "metadata": {},
   "outputs": [
    {
     "data": {
      "image/png": "[encoded data removed]",
      "text/plain": [
       "<Figure size 432x288 with 1 Axes>"
      ]
     },
     "metadata": {
      "needs_background": "light"
     },
     "output_type": "display_data"
    }
   ],
   "source": [
    "_=plt.hist(a1[500:],bins=20)"
   ]
  },
  {
   "cell_type": "markdown",
   "metadata": {},
   "source": [
    "## Posterior predictive checks\n",
    "\n",
    "Below is a posterior predictive check for the empirical SD of the serial intervals."
   ]
  },
  {
   "cell_type": "code",
   "execution_count": 1070,
   "metadata": {},
   "outputs": [
    {
     "data": {
      "image/png": "[encoded data removed]",
      "text/plain": [
       "<Figure size 432x288 with 1 Axes>"
      ]
     },
     "metadata": {
      "needs_background": "light"
     },
     "output_type": "display_data"
    }
   ],
   "source": [
    "# Discretised distribution of incubation period\n",
    "p = gamma.pdf(range(1,31),params.a2,scale=1/params.b2)\n",
    "p = p/sum(p)\n",
    "\n",
    "diff = []\n",
    "for i in range(500,len(samples)):\n",
    "    T = samples[i][0]\n",
    "    notIndex = np.arange(1,n+1)[[T.parent[w]!=0 for w in range(1,n+1)]]\n",
    "    realSerialInts = np.array([S[v]-S[T.parent[v]] for v in notIndex])\n",
    "    I = samples[i][1]\n",
    "    Srep = I + np.random.choice(range(1,31),size=len(I),p=p)\n",
    "    replSerialInts = np.array([Srep[v]-Srep[T.parent[v]] for v in notIndex])\n",
    "    diff.append(np.std(realSerialInts)-np.std(replSerialInts))\n",
    "    \n",
    "_ = plt.hist(diff,bins=20)"
   ]
  },
  {
   "cell_type": "markdown",
   "metadata": {},
   "source": [
    "Below is a posterior predictive check for the proportion of negative serial intervals (pre-symptomatic transmissions)."
   ]
  },
  {
   "cell_type": "code",
   "execution_count": 1071,
   "metadata": {},
   "outputs": [
    {
     "data": {
      "image/png": "[encoded data removed]",
      "text/plain": [
       "<Figure size 432x288 with 1 Axes>"
      ]
     },
     "metadata": {
      "needs_background": "light"
     },
     "output_type": "display_data"
    }
   ],
   "source": [
    "# Discretised distribution of incubation period\n",
    "p = gamma.pdf(range(1,31),params.a2,scale=1/params.b2)\n",
    "p = p/sum(p)\n",
    "\n",
    "diff = []\n",
    "for i in range(500,len(samples)):\n",
    "    T = samples[i][0]\n",
    "    notIndex = np.arange(1,n+1)[[T.parent[w]!=0 for w in range(1,n+1)]]\n",
    "    realSerialInts = np.array([S[v]-S[T.parent[v]] for v in notIndex])\n",
    "    I = samples[i][1]\n",
    "    Srep = I + np.random.choice(range(1,31),size=len(I),p=p)\n",
    "    replSerialInts = np.array([Srep[v]-Srep[T.parent[v]] for v in notIndex])\n",
    "    diff.append(np.mean(realSerialInts<0)-np.mean(replSerialInts<0))\n",
    "    \n",
    "_ = plt.hist(diff,bins=10)"
   ]
  },
  {
   "cell_type": "markdown",
   "metadata": {},
   "source": [
    "These don't look too alarming. There does seem to be model mispecification if we look at the maximum."
   ]
  },
  {
   "cell_type": "code",
   "execution_count": 1072,
   "metadata": {},
   "outputs": [
    {
     "data": {
      "image/png": "[encoded data removed]",
      "text/plain": [
       "<Figure size 432x288 with 1 Axes>"
      ]
     },
     "metadata": {
      "needs_background": "light"
     },
     "output_type": "display_data"
    }
   ],
   "source": [
    "# Discretised distribution of incubation period\n",
    "p = gamma.pdf(range(1,31),params.a2,scale=1/params.b2)\n",
    "p = p/sum(p)\n",
    "\n",
    "diff = []\n",
    "for i in range(500,len(samples)):\n",
    "    T = samples[i][0]\n",
    "    notIndex = np.arange(1,n+1)[[T.parent[w]!=0 for w in range(1,n+1)]]\n",
    "    realSerialInts = np.array([S[v]-S[T.parent[v]] for v in notIndex])\n",
    "    I = samples[i][1]\n",
    "    Srep = I + np.random.choice(range(1,31),size=len(I),p=p)\n",
    "    replSerialInts = np.array([Srep[v]-Srep[T.parent[v]] for v in notIndex])\n",
    "    diff.append(np.max(realSerialInts)-np.max(replSerialInts))\n",
    "    \n",
    "_ = plt.hist(diff,bins=10)"
   ]
  }
 ],
 "metadata": {
  "kernelspec": {
   "display_name": "Python 2",
   "language": "python",
   "name": "python2"
  },
  "language_info": {
   "codemirror_mode": {
    "name": "ipython",
    "version": 2
   },
   "file_extension": ".py",
   "mimetype": "text/x-python",
   "name": "python",
   "nbconvert_exporter": "python",
   "pygments_lexer": "ipython2",
   "version": "2.7.17"
  }
 },
 "nbformat": 4,
 "nbformat_minor": 2
}
